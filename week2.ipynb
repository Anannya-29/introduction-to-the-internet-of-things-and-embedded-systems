{
  "nbformat": 4,
  "nbformat_minor": 0,
  "metadata": {
    "colab": {
      "name": "week2.ipynb",
      "provenance": [],
      "authorship_tag": "ABX9TyPj2J0QKVYK+Uvhm1KDJW67",
      "include_colab_link": true
    },
    "kernelspec": {
      "name": "python3",
      "display_name": "Python 3"
    }
  },
  "cells": [
    {
      "cell_type": "markdown",
      "metadata": {
        "id": "view-in-github",
        "colab_type": "text"
      },
      "source": [
        "<a href=\"https://colab.research.google.com/github/la-devotchka/introduction-to-the-internet-of-things-and-embedded-systems/blob/master/week2.ipynb\" target=\"_parent\"><img src=\"https://colab.research.google.com/assets/colab-badge.svg\" alt=\"Open In Colab\"/></a>"
      ]
    },
    {
      "cell_type": "markdown",
      "metadata": {
        "id": "uXKzdALkJRwI",
        "colab_type": "text"
      },
      "source": [
        "# **Module 2 Quiz**"
      ]
    },
    {
      "cell_type": "markdown",
      "metadata": {
        "id": "Dn3AHUrtJVOB",
        "colab_type": "text"
      },
      "source": [
        "**1. A light sensor (photoresistor) is an analog sensor.**\n",
        "\n",
        "*Answer: True*\n",
        "\n",
        "**2. A microphone is a digital sensor.**\n",
        "\n",
        "*Answer: False*\n",
        "\n",
        "**3. A push button is an analog sensor.**\n",
        "\n",
        "*Answer: False*\n",
        "\n",
        "**4. A keyboard is a digital sensor.**\n",
        "\n",
        "*Answer: True*\n",
        "\n",
        "**5. Which of the following components are actuators? Select all that apply.**\n",
        "\n",
        "*Answer: A servo motor, an LED, a heating element*\n",
        "\n",
        "**6. The component of an embedded system that executes a program is:**\n",
        "\n",
        "*Answer: A microcontroller*\n",
        "\n",
        "**7. An analog-to-digital converter is common in embedded systems because**\n",
        "\n",
        "*Answer: Many sensors are analog while the microcontroller is digital.*\n",
        "\n",
        "**8. Consider the anti-lock braking system in a car. What are the main sensors and actuators of this system from the perspective of the driver?**\n",
        "\n",
        "*Answer:Brake pedal and brake calipers and pads*"
      ]
    }
  ]
}