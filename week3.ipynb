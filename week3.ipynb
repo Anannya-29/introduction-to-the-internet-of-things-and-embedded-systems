{
  "nbformat": 4,
  "nbformat_minor": 0,
  "metadata": {
    "colab": {
      "name": "week3.ipynb",
      "provenance": [],
      "authorship_tag": "ABX9TyOtzlfHeWZH0SMxGX9d59l2",
      "include_colab_link": true
    },
    "kernelspec": {
      "name": "python3",
      "display_name": "Python 3"
    }
  },
  "cells": [
    {
      "cell_type": "markdown",
      "metadata": {
        "id": "view-in-github",
        "colab_type": "text"
      },
      "source": [
        "<a href=\"https://colab.research.google.com/github/la-devotchka/introduction-to-the-internet-of-things-and-embedded-systems/blob/master/week3.ipynb\" target=\"_parent\"><img src=\"https://colab.research.google.com/assets/colab-badge.svg\" alt=\"Open In Colab\"/></a>"
      ]
    },
    {
      "cell_type": "markdown",
      "metadata": {
        "id": "s1sIERulbWmQ",
        "colab_type": "text"
      },
      "source": [
        "# **Module 3 Quiz**"
      ]
    },
    {
      "cell_type": "markdown",
      "metadata": {
        "id": "9EZl_-abbZ5B",
        "colab_type": "text"
      },
      "source": [
        "**1. Under what conditions should an integrated circuit be used in an IoT device?**\n",
        "\n",
        "*Answer: All of the above*\n",
        "\n",
        "**2. Given a choice between implementing a function as an integrated circuit (in hardware) or as a program (in software), what factor needs to be considered the least?**\n",
        "\n",
        "*Answer: The physical look of the final device.*\n",
        "\n",
        "**3. Generally, in a computer-based system, main memory is much larger than cache.**\n",
        "\n",
        "*Answer: True*\n",
        "\n",
        "**4. What is the fastest type of storage in a computer-based device?**\n",
        "\n",
        "*Answer: Registers*\n",
        "\n",
        "**5. Which statement is false?**\n",
        "\n",
        "*Answer: Machine language is universal, allowing programs written in machine language to be executed on any microprocessor.*\n",
        "\n",
        "**6. What does an assembler generate?**\n",
        "\n",
        "*Answer: Machine code from assembly code.*\n",
        "\n",
        "**7. Compiled code generally executes faster than interpreted code.**\n",
        "\n",
        "*Answer: True*\n",
        "\n",
        "**8. Which of the following is NOT a benefit of using an operating system?**\n",
        "\n",
        "*Answer: The frequency of the microcontroller clock can be significantly increased.*"
      ]
    }
  ]
}