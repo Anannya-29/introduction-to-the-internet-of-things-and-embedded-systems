{
  "nbformat": 4,
  "nbformat_minor": 0,
  "metadata": {
    "colab": {
      "name": "week1.ipynb",
      "provenance": [],
      "authorship_tag": "ABX9TyMRb4mjCwHCbFy4skAIUrVG",
      "include_colab_link": true
    },
    "kernelspec": {
      "name": "python3",
      "display_name": "Python 3"
    }
  },
  "cells": [
    {
      "cell_type": "markdown",
      "metadata": {
        "id": "view-in-github",
        "colab_type": "text"
      },
      "source": [
        "<a href=\"https://colab.research.google.com/github/la-devotchka/introduction-to-the-internet-of-things-and-embedded-systems/blob/master/week1.ipynb\" target=\"_parent\"><img src=\"https://colab.research.google.com/assets/colab-badge.svg\" alt=\"Open In Colab\"/></a>"
      ]
    },
    {
      "cell_type": "markdown",
      "metadata": {
        "id": "f2AwZHv1Kkh1",
        "colab_type": "text"
      },
      "source": [
        "# **Module 1 Quiz**"
      ]
    },
    {
      "cell_type": "markdown",
      "metadata": {
        "id": "bfS_qEE5KrG3",
        "colab_type": "text"
      },
      "source": [
        "**1. My watch displays the current weather downloaded from the Internet. My watch is an IoT device.**\n",
        "\n",
        "*Answer: True*\n",
        "\n",
        "**2. Which of the following could be an IoT device?**\n",
        "\n",
        "*Answer: All of the above*\n",
        "\n",
        "**3. An IoT device can most easily be differentiated from a standard computer based on**\n",
        "*Answer: Interface with the user and the world*\n",
        "\n",
        "**4. The following trend is NOT related to the growth in IoT technology:**\n",
        "\n",
        "*Answer: Increase in computer monitor size over time.*\n",
        "\n",
        "**5. IoT devices are likely to be more vulnerable to cyberattacks than standard computers.**\n",
        "\n",
        "*Answer: True*\n",
        "\n",
        "**6. Which of these security approaches is feasible for most IoT devices?**\n",
        "\n",
        "*Answer: Regular installation of product firmware updates.*\n",
        "\n",
        "**7. IoT devices gather private information about users. Which statement is most true about the security of that data?**\n",
        "\n",
        "*Answer: Users must rely on data-collecting agencies to securely store and transmit their data.*\n",
        "\n",
        "**8. Although people are aware of the dangers of cyberattacks, they often do not understand the risks to IoT devices.**\n",
        "\n",
        "*Answer: True*"
      ]
    }
  ]
}